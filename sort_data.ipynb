{
 "cells": [
  {
   "cell_type": "code",
   "execution_count": 13,
   "metadata": {},
   "outputs": [],
   "source": [
    "import numpy as np \n",
    "import h5py as h5\n",
    "import os \n",
    "from lecroy import read"
   ]
  },
  {
   "cell_type": "code",
   "execution_count": 88,
   "metadata": {},
   "outputs": [],
   "source": [
    "def going_through_folders(f_path, groupe):\n",
    "    datas = []\n",
    "    for d in os.listdir(path=f_path):\n",
    "        full_path = os.path.join(f_path, d)\n",
    "        if os.path.isfile(full_path):\n",
    "            data, meta_data = open_file(full_path)\n",
    "            if len(data) > 0:\n",
    "                datas.append(data)\n",
    "        else:\n",
    "            grp = groupe.create_group(os.path.basename(full_path))\n",
    "            going_through_folders(f_path=full_path, groupe=grp)\n",
    "    \n",
    "    # Only create a dataset if there is data to save\n",
    "    if len(datas) > 0:\n",
    "        # Optionally concatenate all data if necessary\n",
    "        all_data = np.concatenate(datas) if len(datas) > 1 else datas[0]\n",
    "        groupe.create_dataset(os.path.basename(f_path), data=all_data, compression='gzip', compression_opts=4)\n",
    "        for m in meta_data:\n",
    "            groupe.attrs[m] = meta_data[m]\n",
    "        print(f\"{groupe} done\")\n",
    "\n",
    "    return 0\n",
    "\n",
    "def open_file(file_path):\n",
    "    try: \n",
    "        md = read(file_path)\n",
    "        meta_data = md[0]\n",
    "        data = md[2]\n",
    "        return data, meta_data\n",
    "    except Exception as e:\n",
    "        print(f\"{file_path} is not a dataset and cannot be opened: {e}\")\n",
    "        return 0, 0"
   ]
  },
  {
   "cell_type": "code",
   "execution_count": 89,
   "metadata": {},
   "outputs": [
    {
     "name": "stdout",
     "output_type": "stream",
     "text": [
      "<HDF5 group \"/antisqueezing/C1\" (1 members)> done\n",
      "<HDF5 group \"/antisqueezing/C2\" (1 members)> done\n",
      "<HDF5 group \"/antisqueezing/C3\" (1 members)> done\n",
      "<HDF5 group \"/antisqueezing/C4\" (1 members)> done\n",
      "<HDF5 group \"/electronic/C1\" (1 members)> done\n",
      "<HDF5 group \"/electronic/C2\" (1 members)> done\n",
      "<HDF5 group \"/electronic/C3\" (1 members)> done\n",
      "<HDF5 group \"/electronic/C4\" (1 members)> done\n",
      "<HDF5 group \"/shotnoise/C1\" (1 members)> done\n",
      "<HDF5 group \"/shotnoise/C2\" (1 members)> done\n",
      "<HDF5 group \"/shotnoise/C3\" (1 members)> done\n",
      "<HDF5 group \"/shotnoise/C4\" (1 members)> done\n",
      "<HDF5 group \"/squeezing/C1\" (1 members)> done\n",
      "<HDF5 group \"/squeezing/C2\" (1 members)> done\n",
      "<HDF5 group \"/squeezing/C3\" (1 members)> done\n",
      "<HDF5 group \"/squeezing/C4\" (1 members)> done\n",
      "xueshi/Sq_antisq_spectrum.png is not a dataset and cannot be opened: unpack requires a buffer of 16 bytes\n"
     ]
    },
    {
     "ename": "TypeError",
     "evalue": "object of type 'int' has no len()",
     "output_type": "error",
     "traceback": [
      "\u001b[1;31m---------------------------------------------------------------------------\u001b[0m",
      "\u001b[1;31mTypeError\u001b[0m                                 Traceback (most recent call last)",
      "Cell \u001b[1;32mIn[89], line 4\u001b[0m\n\u001b[0;32m      2\u001b[0m list_dir \u001b[38;5;241m=\u001b[39m os\u001b[38;5;241m.\u001b[39mlistdir(path \u001b[38;5;241m=\u001b[39m folder)\n\u001b[0;32m      3\u001b[0m \u001b[38;5;28;01mwith\u001b[39;00m h5\u001b[38;5;241m.\u001b[39mFile(\u001b[38;5;124m\"\u001b[39m\u001b[38;5;124mjens_data.hdf5\u001b[39m\u001b[38;5;124m\"\u001b[39m, \u001b[38;5;124m'\u001b[39m\u001b[38;5;124mw\u001b[39m\u001b[38;5;124m'\u001b[39m) \u001b[38;5;28;01mas\u001b[39;00m f:\n\u001b[1;32m----> 4\u001b[0m     \u001b[43mgoing_through_folders\u001b[49m\u001b[43m(\u001b[49m\u001b[43mfolder\u001b[49m\u001b[43m,\u001b[49m\u001b[43mf\u001b[49m\u001b[43m)\u001b[49m\n",
      "Cell \u001b[1;32mIn[88], line 7\u001b[0m, in \u001b[0;36mgoing_through_folders\u001b[1;34m(f_path, groupe)\u001b[0m\n\u001b[0;32m      5\u001b[0m \u001b[38;5;28;01mif\u001b[39;00m os\u001b[38;5;241m.\u001b[39mpath\u001b[38;5;241m.\u001b[39misfile(full_path):\n\u001b[0;32m      6\u001b[0m     data, meta_data \u001b[38;5;241m=\u001b[39m open_file(full_path)\n\u001b[1;32m----> 7\u001b[0m     \u001b[38;5;28;01mif\u001b[39;00m \u001b[38;5;28;43mlen\u001b[39;49m\u001b[43m(\u001b[49m\u001b[43mdata\u001b[49m\u001b[43m)\u001b[49m \u001b[38;5;241m>\u001b[39m \u001b[38;5;241m0\u001b[39m:\n\u001b[0;32m      8\u001b[0m         datas\u001b[38;5;241m.\u001b[39mappend(data)\n\u001b[0;32m      9\u001b[0m \u001b[38;5;28;01melse\u001b[39;00m:\n",
      "\u001b[1;31mTypeError\u001b[0m: object of type 'int' has no len()"
     ]
    }
   ],
   "source": [
    "folder = \"xueshi/\"\n",
    "list_dir = os.listdir(path = folder)\n",
    "with h5.File(\"jens_data.hdf5\", 'w') as f:\n",
    "    going_through_folders(folder,f)"
   ]
  }
 ],
 "metadata": {
  "kernelspec": {
   "display_name": ".venv",
   "language": "python",
   "name": "python3"
  },
  "language_info": {
   "codemirror_mode": {
    "name": "ipython",
    "version": 3
   },
   "file_extension": ".py",
   "mimetype": "text/x-python",
   "name": "python",
   "nbconvert_exporter": "python",
   "pygments_lexer": "ipython3",
   "version": "3.12.0"
  }
 },
 "nbformat": 4,
 "nbformat_minor": 2
}
